{
 "cells": [
  {
   "cell_type": "markdown",
   "metadata": {},
   "source": [
    "# KPMG Virtual Data Analytics Internship "
   ]
  },
  {
   "cell_type": "markdown",
   "metadata": {},
   "source": [
    "[1] Data Quality Assessment  \n",
    "    Step 1: Imported Pandas  \n",
    "    Step 2: Imported the Pandas dataset of the excel files  \n",
    "    Step 3: Got all the columns of the dataset  \n",
    "    Step 4: Counted the number of individual values of each column in the dataset to check for missnamed data in indiviual columns  \n",
    "    Step 5: Got the percentage of missing values in the data  \n",
    "    Step 6: Drop all missing rows from the dataset   \n",
    "    "
   ]
  },
  {
   "cell_type": "code",
   "execution_count": 421,
   "metadata": {},
   "outputs": [],
   "source": [
    "import pandas as pd"
   ]
  },
  {
   "cell_type": "markdown",
   "metadata": {},
   "source": [
    "### Transaction Dataset"
   ]
  },
  {
   "cell_type": "code",
   "execution_count": 422,
   "metadata": {},
   "outputs": [],
   "source": [
    "tr = pd.read_excel('Transactions_raw.xlsx')\n",
    "tr = tr.drop(columns=['transaction_id.1'])"
   ]
  },
  {
   "cell_type": "code",
   "execution_count": 428,
   "metadata": {},
   "outputs": [
    {
     "data": {
      "text/plain": [
       "(19445, 13)"
      ]
     },
     "execution_count": 428,
     "metadata": {},
     "output_type": "execute_result"
    }
   ],
   "source": [
    "tr.shape"
   ]
  },
  {
   "cell_type": "code",
   "execution_count": 424,
   "metadata": {},
   "outputs": [
    {
     "data": {
      "text/plain": [
       "Index(['transaction_id', 'product_id', 'customer_id', 'transaction_date',\n",
       "       'online_order', 'order_status', 'brand', 'product_line',\n",
       "       'product_class', 'product_size', 'list_price', 'standard_cost',\n",
       "       'product_first_sold_date'],\n",
       "      dtype='object')"
      ]
     },
     "execution_count": 424,
     "metadata": {},
     "output_type": "execute_result"
    }
   ],
   "source": [
    "tr.columns"
   ]
  },
  {
   "cell_type": "code",
   "execution_count": 425,
   "metadata": {},
   "outputs": [
    {
     "data": {
      "text/plain": [
       "transaction_id             0.000\n",
       "product_id                 0.000\n",
       "customer_id                0.000\n",
       "transaction_date           0.000\n",
       "online_order               1.800\n",
       "order_status               0.000\n",
       "brand                      0.985\n",
       "product_line               0.985\n",
       "product_class              0.985\n",
       "product_size               0.985\n",
       "list_price                 0.000\n",
       "standard_cost              0.985\n",
       "product_first_sold_date    0.985\n",
       "dtype: float64"
      ]
     },
     "execution_count": 425,
     "metadata": {},
     "output_type": "execute_result"
    }
   ],
   "source": [
    "tr.isna().mean() * 100"
   ]
  },
  {
   "cell_type": "code",
   "execution_count": 426,
   "metadata": {},
   "outputs": [],
   "source": [
    "tr = tr.dropna()"
   ]
  },
  {
   "cell_type": "code",
   "execution_count": 427,
   "metadata": {},
   "outputs": [
    {
     "name": "stdout",
     "output_type": "stream",
     "text": [
      "transaction_id\n",
      "2047     1\n",
      "645      1\n",
      "4743     1\n",
      "19084    1\n",
      "17037    1\n",
      "        ..\n",
      "15661    1\n",
      "9518     1\n",
      "11567    1\n",
      "17714    1\n",
      "2049     1\n",
      "Name: transaction_id, Length: 19445, dtype: int64\n",
      "\n",
      "\n",
      "product_id\n",
      "0      1157\n",
      "3       349\n",
      "1       305\n",
      "38      267\n",
      "35      261\n",
      "       ... \n",
      "71      134\n",
      "16      134\n",
      "8       132\n",
      "100     126\n",
      "47      118\n",
      "Name: product_id, Length: 101, dtype: int64\n",
      "\n",
      "\n",
      "customer_id\n",
      "2476    14\n",
      "1068    14\n",
      "2183    14\n",
      "1302    13\n",
      "1913    13\n",
      "        ..\n",
      "2271     1\n",
      "2532     1\n",
      "1544     1\n",
      "373      1\n",
      "2047     1\n",
      "Name: customer_id, Length: 3492, dtype: int64\n",
      "\n",
      "\n",
      "transaction_date\n",
      "2017-02-14    81\n",
      "2017-08-18    81\n",
      "2017-10-15    73\n",
      "2017-01-31    72\n",
      "2017-12-19    70\n",
      "              ..\n",
      "2017-12-07    37\n",
      "2017-01-12    36\n",
      "2017-09-25    35\n",
      "2017-03-29    34\n",
      "2017-10-19    32\n",
      "Name: transaction_date, Length: 364, dtype: int64\n",
      "\n",
      "\n",
      "online_order\n",
      "1.0    9739\n",
      "0.0    9706\n",
      "Name: online_order, dtype: int64\n",
      "\n",
      "\n",
      "order_status\n",
      "Approved     19273\n",
      "Cancelled      172\n",
      "Name: order_status, dtype: int64\n",
      "\n",
      "\n",
      "brand\n",
      "Solex             4169\n",
      "WeareA2B          3245\n",
      "Giant Bicycles    3244\n",
      "OHM Cycles        2993\n",
      "Trek Bicycles     2931\n",
      "Norco Bicycles    2863\n",
      "Name: brand, dtype: int64\n",
      "\n",
      "\n",
      "product_line\n",
      "Standard    13920\n",
      "Road         3894\n",
      "Touring      1213\n",
      "Mountain      418\n",
      "Name: product_line, dtype: int64\n",
      "\n",
      "\n",
      "product_class\n",
      "medium    13587\n",
      "high       2952\n",
      "low        2906\n",
      "Name: product_class, dtype: int64\n",
      "\n",
      "\n",
      "product_size\n",
      "medium    12767\n",
      "large      3900\n",
      "small      2778\n",
      "Name: product_size, dtype: int64\n",
      "\n",
      "\n",
      "list_price\n",
      "2091.47    460\n",
      "1403.50    389\n",
      "71.49      269\n",
      "1231.15    232\n",
      "1890.39    230\n",
      "          ... \n",
      "1172.78    153\n",
      "358.39     138\n",
      "1227.34    126\n",
      "202.62     123\n",
      "1036.59    111\n",
      "Name: list_price, Length: 100, dtype: int64\n",
      "\n",
      "\n",
      "standard_cost\n",
      "388.920000    460\n",
      "954.820000    389\n",
      "53.620000     269\n",
      "161.600000    232\n",
      "260.140000    230\n",
      "             ... \n",
      "151.960000    123\n",
      "206.350000    111\n",
      "270.299988      1\n",
      "312.735016      1\n",
      "667.400024      1\n",
      "Name: standard_cost, Length: 103, dtype: int64\n",
      "\n",
      "\n",
      "product_first_sold_date\n",
      "33879.0    230\n",
      "41064.0    223\n",
      "37823.0    221\n",
      "39880.0    220\n",
      "38216.0    217\n",
      "          ... \n",
      "41848.0    168\n",
      "42404.0    167\n",
      "41922.0    163\n",
      "37659.0    161\n",
      "34586.0    159\n",
      "Name: product_first_sold_date, Length: 100, dtype: int64\n",
      "\n",
      "\n"
     ]
    }
   ],
   "source": [
    "for n in tr.columns:\n",
    "    print(n)\n",
    "    print(tr[n].value_counts())\n",
    "    print()\n",
    "    print()"
   ]
  },
  {
   "cell_type": "code",
   "execution_count": 415,
   "metadata": {},
   "outputs": [
    {
     "data": {
      "text/plain": [
       "transaction_id             0.0\n",
       "product_id                 0.0\n",
       "customer_id                0.0\n",
       "transaction_date           0.0\n",
       "online_order               0.0\n",
       "order_status               0.0\n",
       "brand                      0.0\n",
       "product_line               0.0\n",
       "product_class              0.0\n",
       "product_size               0.0\n",
       "list_price                 0.0\n",
       "standard_cost              0.0\n",
       "product_first_sold_date    0.0\n",
       "dtype: float64"
      ]
     },
     "execution_count": 415,
     "metadata": {},
     "output_type": "execute_result"
    }
   ],
   "source": [
    "# About 1.8% of the values are missing from the dataset \n",
    "tr.isna().mean() * 100"
   ]
  },
  {
   "cell_type": "code",
   "execution_count": 378,
   "metadata": {},
   "outputs": [],
   "source": []
  },
  {
   "cell_type": "markdown",
   "metadata": {},
   "source": [
    "### New Customer List Dataset "
   ]
  },
  {
   "cell_type": "code",
   "execution_count": 379,
   "metadata": {},
   "outputs": [
    {
     "data": {
      "text/plain": [
       "(1000, 24)"
      ]
     },
     "execution_count": 379,
     "metadata": {},
     "output_type": "execute_result"
    }
   ],
   "source": [
    "ncl = pd.read_excel('NewCusList_raw.xlsx')\n",
    "ncl.shape"
   ]
  },
  {
   "cell_type": "code",
   "execution_count": 380,
   "metadata": {},
   "outputs": [
    {
     "data": {
      "text/plain": [
       "Index(['first_name', 'first_name.1', 'last_name', 'gender',\n",
       "       'past_3_years_bike_related_purchases', 'DOB', 'job_title',\n",
       "       'job_industry_category', 'wealth_segment', 'deceased_indicator',\n",
       "       'owns_car', 'tenure', 'address', 'postcode', 'state', 'country',\n",
       "       'property_valuation', 'Unnamed: 17', 'Unnamed: 18', 'Unnamed: 19',\n",
       "       'Unnamed: 20', 'Unnamed: 21', 'Rank', 'Value'],\n",
       "      dtype='object')"
      ]
     },
     "execution_count": 380,
     "metadata": {},
     "output_type": "execute_result"
    }
   ],
   "source": [
    "ncl.columns"
   ]
  },
  {
   "cell_type": "code",
   "execution_count": 381,
   "metadata": {},
   "outputs": [],
   "source": [
    "ncl = ncl.drop(columns=[ 'first_name.1', 'Unnamed: 17', 'Unnamed: 18', 'Unnamed: 19',\n",
    "       'Unnamed: 20', 'Unnamed: 21'])"
   ]
  },
  {
   "cell_type": "code",
   "execution_count": 382,
   "metadata": {},
   "outputs": [],
   "source": [
    "# Removing unnecessary rows \n",
    "ncl=ncl[ncl.gender != 'U']"
   ]
  },
  {
   "cell_type": "code",
   "execution_count": 383,
   "metadata": {},
   "outputs": [
    {
     "data": {
      "text/plain": [
       "(983, 18)"
      ]
     },
     "execution_count": 383,
     "metadata": {},
     "output_type": "execute_result"
    }
   ],
   "source": [
    "# 1.7% of rows are deleted \n",
    "ncl.shape"
   ]
  },
  {
   "cell_type": "code",
   "execution_count": 384,
   "metadata": {},
   "outputs": [
    {
     "name": "stdout",
     "output_type": "stream",
     "text": [
      "first_name\n",
      "Dorian       3\n",
      "Mandie       3\n",
      "Arty         2\n",
      "Cissiee      2\n",
      "Inglebert    2\n",
      "            ..\n",
      "Roman        1\n",
      "Jeanne       1\n",
      "Charlena     1\n",
      "Packston     1\n",
      "Wilbert      1\n",
      "Name: first_name, Length: 925, dtype: int64\n",
      "\n",
      "\n",
      "last_name\n",
      "Shoesmith        2\n",
      "Burgoine         2\n",
      "Van den Velde    2\n",
      "Minshall         2\n",
      "Crellim          2\n",
      "                ..\n",
      "Tomasicchio      1\n",
      "Froment          1\n",
      "Docket           1\n",
      "Critten          1\n",
      "Heakey           1\n",
      "Name: last_name, Length: 944, dtype: int64\n",
      "\n",
      "\n",
      "gender\n",
      "Female    513\n",
      "Male      470\n",
      "Name: gender, dtype: int64\n",
      "\n",
      "\n",
      "past_3_years_bike_related_purchases\n",
      "60    20\n",
      "59    18\n",
      "70    17\n",
      "42    17\n",
      "37    16\n",
      "      ..\n",
      "9      5\n",
      "92     5\n",
      "19     5\n",
      "85     4\n",
      "20     2\n",
      "Name: past_3_years_bike_related_purchases, Length: 100, dtype: int64\n",
      "\n",
      "\n",
      "DOB\n",
      "1961-07-31    2\n",
      "1994-04-15    2\n",
      "1987-01-15    2\n",
      "1951-11-28    2\n",
      "1951-04-30    2\n",
      "             ..\n",
      "1995-10-10    1\n",
      "1964-08-23    1\n",
      "1962-05-12    1\n",
      "1957-10-17    1\n",
      "1939-08-22    1\n",
      "Name: DOB, Length: 958, dtype: int64\n",
      "\n",
      "\n",
      "job_title\n",
      "Environmental Tech            14\n",
      "Associate Professor           14\n",
      "Software Consultant           14\n",
      "Chief Design Engineer         13\n",
      "Assistant Manager             12\n",
      "                              ..\n",
      "Account Representative II      1\n",
      "Systems Administrator III      1\n",
      "Health Coach I                 1\n",
      "Software Test Engineer III     1\n",
      "Engineer II                    1\n",
      "Name: job_title, Length: 184, dtype: int64\n",
      "\n",
      "\n",
      "job_industry_category\n",
      "Financial Services    202\n",
      "Manufacturing         199\n",
      "Health                152\n",
      "Retail                 78\n",
      "Property               64\n",
      "IT                     36\n",
      "Entertainment          36\n",
      "Argiculture            26\n",
      "Telecommunications     25\n",
      "Name: job_industry_category, dtype: int64\n",
      "\n",
      "\n",
      "wealth_segment\n",
      "Mass Customer        499\n",
      "High Net Worth       249\n",
      "Affluent Customer    235\n",
      "Name: wealth_segment, dtype: int64\n",
      "\n",
      "\n",
      "deceased_indicator\n",
      "N    983\n",
      "Name: deceased_indicator, dtype: int64\n",
      "\n",
      "\n",
      "owns_car\n",
      "No     497\n",
      "Yes    486\n",
      "Name: owns_car, dtype: int64\n",
      "\n",
      "\n",
      "tenure\n",
      "9     79\n",
      "13    73\n",
      "11    66\n",
      "10    63\n",
      "12    60\n",
      "17    59\n",
      "7     59\n",
      "15    57\n",
      "5     57\n",
      "8     55\n",
      "14    52\n",
      "16    49\n",
      "6     45\n",
      "18    36\n",
      "4     35\n",
      "19    34\n",
      "3     25\n",
      "21    24\n",
      "20    22\n",
      "2     13\n",
      "22    12\n",
      "1      8\n",
      "Name: tenure, dtype: int64\n",
      "\n",
      "\n",
      "address\n",
      "3259 Eagan Parkway       1\n",
      "8042 Cherokee Court      1\n",
      "29 Maple Trail           1\n",
      "9 Killdeer Circle        1\n",
      "900 Brown Junction       1\n",
      "                        ..\n",
      "1 Talisman Avenue        1\n",
      "890 Truax Lane           1\n",
      "3413 Schmedeman Court    1\n",
      "45 Shopko Center         1\n",
      "678 Lyons Trail          1\n",
      "Name: address, Length: 983, dtype: int64\n",
      "\n",
      "\n",
      "postcode\n",
      "2232    9\n",
      "2145    9\n",
      "2168    7\n",
      "3977    7\n",
      "2750    7\n",
      "       ..\n",
      "4405    1\n",
      "2358    1\n",
      "2118    1\n",
      "4408    1\n",
      "3051    1\n",
      "Name: postcode, Length: 515, dtype: int64\n",
      "\n",
      "\n",
      "state\n",
      "NSW    499\n",
      "VIC    258\n",
      "QLD    226\n",
      "Name: state, dtype: int64\n",
      "\n",
      "\n",
      "country\n",
      "Australia    983\n",
      "Name: country, dtype: int64\n",
      "\n",
      "\n",
      "property_valuation\n",
      "9     172\n",
      "8     161\n",
      "7     135\n",
      "10    114\n",
      "6      67\n",
      "11     60\n",
      "5      55\n",
      "4      52\n",
      "3      50\n",
      "12     46\n",
      "2      42\n",
      "1      29\n",
      "Name: property_valuation, dtype: int64\n",
      "\n",
      "\n",
      "Rank\n",
      "760     13\n",
      "259     12\n",
      "455      9\n",
      "133      9\n",
      "386      9\n",
      "        ..\n",
      "870      1\n",
      "429      1\n",
      "218      1\n",
      "419      1\n",
      "1000     1\n",
      "Name: Rank, Length: 324, dtype: int64\n",
      "\n",
      "\n",
      "Value\n",
      "0.637500    13\n",
      "1.062500    12\n",
      "1.237500     9\n",
      "0.892500     9\n",
      "0.945625     9\n",
      "            ..\n",
      "0.374000     1\n",
      "0.610938     1\n",
      "0.512500     1\n",
      "0.734375     1\n",
      "0.459000     1\n",
      "Name: Value, Length: 324, dtype: int64\n",
      "\n",
      "\n"
     ]
    }
   ],
   "source": [
    "for n in ncl.columns:\n",
    "    print(n)\n",
    "    print(ncl[n].value_counts())\n",
    "    print()\n",
    "    print()"
   ]
  },
  {
   "cell_type": "markdown",
   "metadata": {},
   "source": [
    "### Customer Demographic Dataset "
   ]
  },
  {
   "cell_type": "code",
   "execution_count": 430,
   "metadata": {},
   "outputs": [
    {
     "data": {
      "text/plain": [
       "(4000, 14)"
      ]
     },
     "execution_count": 430,
     "metadata": {},
     "output_type": "execute_result"
    }
   ],
   "source": [
    "cd = pd.read_excel('CusDem_raw.xlsx')\n",
    "cd.shape"
   ]
  },
  {
   "cell_type": "code",
   "execution_count": 431,
   "metadata": {},
   "outputs": [
    {
     "data": {
      "text/plain": [
       "Index(['customer_id', 'customer_id.1', 'first_name', 'last_name', 'gender',\n",
       "       'past_3_years_bike_related_purchases', 'DOB', 'job_title',\n",
       "       'job_industry_category', 'wealth_segment', 'deceased_indicator',\n",
       "       'default', 'owns_car', 'tenure'],\n",
       "      dtype='object')"
      ]
     },
     "execution_count": 431,
     "metadata": {},
     "output_type": "execute_result"
    }
   ],
   "source": [
    "cd.columns"
   ]
  },
  {
   "cell_type": "code",
   "execution_count": 432,
   "metadata": {},
   "outputs": [],
   "source": [
    "cd = cd.drop(columns='customer_id.1')"
   ]
  },
  {
   "cell_type": "code",
   "execution_count": 433,
   "metadata": {},
   "outputs": [
    {
     "data": {
      "text/plain": [
       "customer_id                             0.000\n",
       "first_name                              0.000\n",
       "last_name                               3.125\n",
       "gender                                  0.000\n",
       "past_3_years_bike_related_purchases     0.000\n",
       "DOB                                     2.175\n",
       "job_title                              12.650\n",
       "job_industry_category                  16.400\n",
       "wealth_segment                          0.000\n",
       "deceased_indicator                      0.000\n",
       "default                                 7.550\n",
       "owns_car                                0.000\n",
       "tenure                                  2.175\n",
       "dtype: float64"
      ]
     },
     "execution_count": 433,
     "metadata": {},
     "output_type": "execute_result"
    }
   ],
   "source": [
    "cd.isna().mean() * 100"
   ]
  },
  {
   "cell_type": "code",
   "execution_count": 434,
   "metadata": {},
   "outputs": [],
   "source": [
    "cd = cd.dropna()"
   ]
  },
  {
   "cell_type": "code",
   "execution_count": 438,
   "metadata": {},
   "outputs": [
    {
     "name": "stdout",
     "output_type": "stream",
     "text": [
      "customer_id\n",
      "1021    1\n",
      "3667    1\n",
      "3243    1\n",
      "2221    1\n",
      "2224    1\n",
      "       ..\n",
      "2895    1\n",
      "354     1\n",
      "1380    1\n",
      "3943    1\n",
      "3073    1\n",
      "Name: customer_id, Length: 301, dtype: int64\n",
      "\n",
      "\n",
      "first_name\n",
      "Nettie     2\n",
      "D'arcy     2\n",
      "Lind       2\n",
      "Drucill    2\n",
      "Willem     1\n",
      "          ..\n",
      "Cameron    1\n",
      "Nicko      1\n",
      "Nolana     1\n",
      "Tye        1\n",
      "Mariel     1\n",
      "Name: first_name, Length: 297, dtype: int64\n",
      "\n",
      "\n",
      "last_name\n",
      "Dredge           2\n",
      "Pozzi            2\n",
      "Wickey           2\n",
      "Ordish           1\n",
      "Van der Kruis    1\n",
      "                ..\n",
      "Tomlett          1\n",
      "Blacksell        1\n",
      "McElwee          1\n",
      "Boddis           1\n",
      "Pillinger        1\n",
      "Name: last_name, Length: 298, dtype: int64\n",
      "\n",
      "\n",
      "gender\n",
      "Female    159\n",
      "Male      142\n",
      "Name: gender, dtype: int64\n",
      "\n",
      "\n",
      "past_3_years_bike_related_purchases\n",
      "19    8\n",
      "22    7\n",
      "38    7\n",
      "52    6\n",
      "35    6\n",
      "     ..\n",
      "17    1\n",
      "84    1\n",
      "83    1\n",
      "42    1\n",
      "92    1\n",
      "Name: past_3_years_bike_related_purchases, Length: 92, dtype: int64\n",
      "\n",
      "\n",
      "DOB\n",
      "1973-12-30    2\n",
      "1985-10-21    2\n",
      "1989-11-14    2\n",
      "1956-01-18    1\n",
      "1979-04-07    1\n",
      "             ..\n",
      "1962-11-09    1\n",
      "1981-08-19    1\n",
      "1986-10-27    1\n",
      "1996-10-28    1\n",
      "1956-08-01    1\n",
      "Name: DOB, Length: 298, dtype: int64\n",
      "\n",
      "\n",
      "job_title\n",
      "Librarian                   7\n",
      "Associate Professor         7\n",
      "Electrical Engineer         7\n",
      "Paralegal                   5\n",
      "Structural Engineer         5\n",
      "                           ..\n",
      "Software Test Engineer I    1\n",
      "Systems Administrator I     1\n",
      "Accountant IV               1\n",
      "Editor                      1\n",
      "Engineer II                 1\n",
      "Name: job_title, Length: 137, dtype: int64\n",
      "\n",
      "\n",
      "job_industry_category\n",
      "Manufacturing         77\n",
      "Financial Services    64\n",
      "Health                56\n",
      "Retail                33\n",
      "Property              25\n",
      "Entertainment         21\n",
      "IT                    12\n",
      "Argiculture           10\n",
      "Telecommunications     3\n",
      "Name: job_industry_category, dtype: int64\n",
      "\n",
      "\n",
      "wealth_segment\n",
      "Mass Customer        159\n",
      "High Net Worth        80\n",
      "Affluent Customer     62\n",
      "Name: wealth_segment, dtype: int64\n",
      "\n",
      "\n",
      "deceased_indicator\n",
      "N    301\n",
      "Name: deceased_indicator, dtype: int64\n",
      "\n",
      "\n",
      "default\n",
      " 1      87\n",
      "-1      75\n",
      " 100    72\n",
      "-100    67\n",
      "Name: default, dtype: int64\n",
      "\n",
      "\n",
      "owns_car\n",
      "Yes    153\n",
      "No     148\n",
      "Name: owns_car, dtype: int64\n",
      "\n",
      "\n",
      "tenure\n",
      "7.0     24\n",
      "16.0    23\n",
      "8.0     22\n",
      "17.0    19\n",
      "12.0    19\n",
      "3.0     16\n",
      "10.0    16\n",
      "18.0    16\n",
      "4.0     15\n",
      "14.0    15\n",
      "1.0     14\n",
      "13.0    14\n",
      "19.0    12\n",
      "2.0     12\n",
      "5.0     12\n",
      "15.0    11\n",
      "9.0     11\n",
      "11.0     9\n",
      "6.0      9\n",
      "22.0     5\n",
      "20.0     4\n",
      "21.0     3\n",
      "Name: tenure, dtype: int64\n",
      "\n",
      "\n"
     ]
    }
   ],
   "source": [
    "for n in cd.columns:\n",
    "    print(n)\n",
    "    print(cd[n].value_counts())\n",
    "    print()\n",
    "    print()"
   ]
  },
  {
   "cell_type": "code",
   "execution_count": 436,
   "metadata": {},
   "outputs": [],
   "source": [
    "cd = cd[cd['default'].isin([100, -100, 1, -1])]"
   ]
  },
  {
   "cell_type": "code",
   "execution_count": 437,
   "metadata": {},
   "outputs": [],
   "source": [
    "cd['gender'] = cd['gender'].replace('M', 'Male')"
   ]
  },
  {
   "cell_type": "markdown",
   "metadata": {},
   "source": [
    "### Customer Address Dataset "
   ]
  },
  {
   "cell_type": "code",
   "execution_count": 443,
   "metadata": {},
   "outputs": [],
   "source": [
    "ca = pd.read_excel('CusAdd_raw.xlsx')"
   ]
  },
  {
   "cell_type": "code",
   "execution_count": 444,
   "metadata": {},
   "outputs": [
    {
     "data": {
      "text/plain": [
       "(3999, 7)"
      ]
     },
     "execution_count": 444,
     "metadata": {},
     "output_type": "execute_result"
    }
   ],
   "source": [
    "ca.shape"
   ]
  },
  {
   "cell_type": "code",
   "execution_count": 445,
   "metadata": {},
   "outputs": [
    {
     "data": {
      "text/plain": [
       "Index(['customer_id', 'address', 'postcode', 'state', 'country',\n",
       "       'property_valuation'],\n",
       "      dtype='object')"
      ]
     },
     "execution_count": 445,
     "metadata": {},
     "output_type": "execute_result"
    }
   ],
   "source": [
    "ca = ca.drop(columns='customer_id.1')\n",
    "ca.columns"
   ]
  },
  {
   "cell_type": "code",
   "execution_count": 447,
   "metadata": {},
   "outputs": [
    {
     "data": {
      "text/plain": [
       "customer_id           0.0\n",
       "address               0.0\n",
       "postcode              0.0\n",
       "state                 0.0\n",
       "country               0.0\n",
       "property_valuation    0.0\n",
       "dtype: float64"
      ]
     },
     "execution_count": 447,
     "metadata": {},
     "output_type": "execute_result"
    }
   ],
   "source": [
    "ca.isna().mean() * 100"
   ]
  },
  {
   "cell_type": "code",
   "execution_count": 450,
   "metadata": {},
   "outputs": [],
   "source": [
    "ca=ca.dropna()"
   ]
  },
  {
   "cell_type": "code",
   "execution_count": 454,
   "metadata": {},
   "outputs": [
    {
     "name": "stdout",
     "output_type": "stream",
     "text": [
      "customer_id\n",
      "2047    1\n",
      "653     1\n",
      "2728    1\n",
      "677     1\n",
      "2724    1\n",
      "       ..\n",
      "3371    1\n",
      "1322    1\n",
      "3367    1\n",
      "1318    1\n",
      "2049    1\n",
      "Name: customer_id, Length: 3999, dtype: int64\n",
      "\n",
      "\n",
      "address\n",
      "64 Macpherson Junction     2\n",
      "3 Talisman Place           2\n",
      "3 Mariners Cove Terrace    2\n",
      "511 Gulseth Plaza          1\n",
      "7 Meadow Vale Court        1\n",
      "                          ..\n",
      "8551 Mayfield Court        1\n",
      "6 Logan Junction           1\n",
      "09040 Myrtle Parkway       1\n",
      "7107 Manitowish Road       1\n",
      "82598 Arkansas Hill        1\n",
      "Name: address, Length: 3996, dtype: int64\n",
      "\n",
      "\n",
      "postcode\n",
      "2170    31\n",
      "2155    30\n",
      "2145    30\n",
      "2153    29\n",
      "2770    26\n",
      "        ..\n",
      "4552     1\n",
      "4555     1\n",
      "2485     1\n",
      "3580     1\n",
      "4421     1\n",
      "Name: postcode, Length: 873, dtype: int64\n",
      "\n",
      "\n",
      "state\n",
      "NSW    2140\n",
      "VIC    1021\n",
      "QLD     838\n",
      "Name: state, dtype: int64\n",
      "\n",
      "\n",
      "country\n",
      "Australia    3999\n",
      "Name: country, dtype: int64\n",
      "\n",
      "\n",
      "property_valuation\n",
      "9     647\n",
      "8     646\n",
      "10    577\n",
      "7     493\n",
      "11    281\n",
      "6     238\n",
      "5     225\n",
      "4     214\n",
      "12    195\n",
      "3     186\n",
      "1     154\n",
      "2     143\n",
      "Name: property_valuation, dtype: int64\n",
      "\n",
      "\n"
     ]
    }
   ],
   "source": [
    "for n in ca.columns:\n",
    "    print(n)\n",
    "    print(ca[n].value_counts())\n",
    "    print()\n",
    "    print()"
   ]
  },
  {
   "cell_type": "code",
   "execution_count": 452,
   "metadata": {},
   "outputs": [],
   "source": [
    "ca['state'] = ca['state'].replace('New South Wales', 'NSW')"
   ]
  },
  {
   "cell_type": "code",
   "execution_count": 453,
   "metadata": {},
   "outputs": [],
   "source": [
    "ca['state'] = ca['state'].replace('Victoria', 'VIC')"
   ]
  },
  {
   "cell_type": "code",
   "execution_count": 455,
   "metadata": {},
   "outputs": [
    {
     "data": {
      "text/plain": [
       "(3999, 6)"
      ]
     },
     "execution_count": 455,
     "metadata": {},
     "output_type": "execute_result"
    }
   ],
   "source": [
    "ca.shape"
   ]
  },
  {
   "cell_type": "code",
   "execution_count": null,
   "metadata": {},
   "outputs": [],
   "source": []
  }
 ],
 "metadata": {
  "kernelspec": {
   "display_name": "Python 3",
   "language": "python",
   "name": "python3"
  },
  "language_info": {
   "codemirror_mode": {
    "name": "ipython",
    "version": 3
   },
   "file_extension": ".py",
   "mimetype": "text/x-python",
   "name": "python",
   "nbconvert_exporter": "python",
   "pygments_lexer": "ipython3",
   "version": "3.8.3"
  }
 },
 "nbformat": 4,
 "nbformat_minor": 4
}
